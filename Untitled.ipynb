{
 "cells": [
  {
   "cell_type": "code",
   "execution_count": 5,
   "id": "03d1a149",
   "metadata": {},
   "outputs": [
    {
     "name": "stdout",
     "output_type": "stream",
     "text": [
      "Python: {} 3.8.3 (tags/v3.8.3:6f8c832, May 13 2020, 22:20:19) [MSC v.1925 32 bit (Intel)]\n",
      "Python: {} 3.8.3 (tags/v3.8.3:6f8c832, May 13 2020, 22:20:19) [MSC v.1925 32 bit (Intel)]\n",
      "Numpy: {} 1.20.2\n",
      "Pandas: {} 1.2.3\n",
      "scipy: {} 1.6.2\n",
      "sklearn: {} 0.24.1\n"
     ]
    }
   ],
   "source": [
    "import sys\n",
    "import numpy\n",
    "import pandas\n",
    "\n",
    "\n",
    "import scipy\n",
    "import sklearn\n",
    "\n",
    "print('Python: {}',format(sys.version))\n",
    "\n",
    "print('Python: {}',format(sys.version))\n",
    "print('Numpy: {}',format(numpy.__version__))\n",
    "print('Pandas: {}',format(pandas.__version__))\n",
    "#print('Matplotlib: {}',format(matplotlib._version_))\n",
    "#print('seaborn: {}',format(seaborn._version_))\n",
    "print('scipy: {}',format(scipy.__version__))\n",
    "print('sklearn: {}',format(sklearn.__version__))"
   ]
  },
  {
   "cell_type": "code",
   "execution_count": null,
   "id": "71e5dde7",
   "metadata": {},
   "outputs": [],
   "source": []
  },
  {
   "cell_type": "code",
   "execution_count": null,
   "id": "b493f443",
   "metadata": {},
   "outputs": [],
   "source": []
  }
 ],
 "metadata": {
  "kernelspec": {
   "display_name": "Python 3",
   "language": "python",
   "name": "python3"
  },
  "language_info": {
   "codemirror_mode": {
    "name": "ipython",
    "version": 3
   },
   "file_extension": ".py",
   "mimetype": "text/x-python",
   "name": "python",
   "nbconvert_exporter": "python",
   "pygments_lexer": "ipython3",
   "version": "3.8.3"
  }
 },
 "nbformat": 4,
 "nbformat_minor": 5
}
